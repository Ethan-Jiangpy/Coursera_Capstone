{
 "cells": [
  {
   "cell_type": "markdown",
   "metadata": {},
   "source": [
    "# Capstone"
   ]
  },
  {
   "cell_type": "markdown",
   "metadata": {},
   "source": [
    "This is specially for the project _capstone_"
   ]
  },
  {
   "cell_type": "code",
   "execution_count": 1,
   "metadata": {},
   "outputs": [
    {
     "name": "stdout",
     "output_type": "stream",
     "text": [
      "Hello Capstone Project Course!\n"
     ]
    }
   ],
   "source": [
    "print('Hello Capstone Project Course!')"
   ]
  },
  {
   "cell_type": "markdown",
   "metadata": {},
   "source": [
    "## Introduction"
   ]
  },
  {
   "cell_type": "markdown",
   "metadata": {},
   "source": [
    "The GDP of a region can be inflected in many aspects, including the urbanization rate and the average life span of the region. In a word, the higher the urbanization rate is, the higher the average life span is, more likely is that the GDP of the region is higher. \n",
    "So, as we have learn to explore the neighborhoods of a city, I wonder if the vary type of the venue in the neighborhood can be a reflection. To be explicitly, if the rate that cafe takes of the total venues is higher in a same cultural environment, the more likely the GDP tends to be higher, because the the need for unnecessaries imply that people are more healthy. \n",
    "In my research, I'm going to verify my hypothesis."
   ]
  },
  {
   "cell_type": "markdown",
   "metadata": {},
   "source": [
    "### The data used"
   ]
  },
  {
   "cell_type": "markdown",
   "metadata": {},
   "source": [
    "1. Location data. I will be using the location data of the various cities selected as the training group.   \n",
    "2. GDP data. I will have to gather the GDP data from some official websites.   \n",
    "3. Foursqure API. The API play a major part in explore the neighborhood of the city."
   ]
  },
  {
   "cell_type": "code",
   "execution_count": 2,
   "metadata": {},
   "outputs": [],
   "source": [
    "import json\n",
    "import pandas as pd \n",
    "import numpy as np\n",
    "import xlrd\n",
    "import requests\n",
    "from pandas.io.json import json_normalize\n",
    "from sklearn.ensemble import GradientBoostingRegressor\n",
    "from sklearn import linear_model\n",
    "import matplotlib.pyplot as plt"
   ]
  },
  {
   "cell_type": "code",
   "execution_count": 3,
   "metadata": {},
   "outputs": [
    {
     "name": "stdout",
     "output_type": "stream",
     "text": [
      "geoinfo successfully loaded!\n"
     ]
    }
   ],
   "source": [
    "with open('geoinfo-all.json') as json_data:\n",
    "    china_data = json.load(json_data)\n",
    "print(\"geoinfo successfully loaded!\")"
   ]
  },
  {
   "cell_type": "code",
   "execution_count": 4,
   "metadata": {},
   "outputs": [
    {
     "data": {
      "text/plain": [
       "'北京市'"
      ]
     },
     "execution_count": 4,
     "metadata": {},
     "output_type": "execute_result"
    }
   ],
   "source": [
    "china_data[0]['name']"
   ]
  },
  {
   "cell_type": "code",
   "execution_count": 5,
   "metadata": {},
   "outputs": [
    {
     "name": "stdout",
     "output_type": "stream",
     "text": [
      "396  city in total\n"
     ]
    }
   ],
   "source": [
    "i=1\n",
    "for province in china_data:\n",
    "    for city in province['districts']:\n",
    "#         print(city['name'],i)\n",
    "        i+=1\n",
    "print(i,\" city in total\")"
   ]
  },
  {
   "cell_type": "markdown",
   "metadata": {},
   "source": [
    "we could see there is 395 cities in China."
   ]
  },
  {
   "cell_type": "markdown",
   "metadata": {},
   "source": [
    "## clean and get together the data"
   ]
  },
  {
   "cell_type": "code",
   "execution_count": 6,
   "metadata": {},
   "outputs": [],
   "source": [
    "columns = ['city','x','y','gdp_per_capta']"
   ]
  },
  {
   "cell_type": "code",
   "execution_count": 7,
   "metadata": {},
   "outputs": [],
   "source": [
    "data = pd.DataFrame(columns = columns)"
   ]
  },
  {
   "cell_type": "code",
   "execution_count": 8,
   "metadata": {},
   "outputs": [
    {
     "data": {
      "text/html": [
       "<div>\n",
       "<style scoped>\n",
       "    .dataframe tbody tr th:only-of-type {\n",
       "        vertical-align: middle;\n",
       "    }\n",
       "\n",
       "    .dataframe tbody tr th {\n",
       "        vertical-align: top;\n",
       "    }\n",
       "\n",
       "    .dataframe thead th {\n",
       "        text-align: right;\n",
       "    }\n",
       "</style>\n",
       "<table border=\"1\" class=\"dataframe\">\n",
       "  <thead>\n",
       "    <tr style=\"text-align: right;\">\n",
       "      <th></th>\n",
       "      <th>city</th>\n",
       "      <th>x</th>\n",
       "      <th>y</th>\n",
       "      <th>gdp_per_capta</th>\n",
       "    </tr>\n",
       "  </thead>\n",
       "  <tbody>\n",
       "  </tbody>\n",
       "</table>\n",
       "</div>"
      ],
      "text/plain": [
       "Empty DataFrame\n",
       "Columns: [city, x, y, gdp_per_capta]\n",
       "Index: []"
      ]
     },
     "execution_count": 8,
     "metadata": {},
     "output_type": "execute_result"
    }
   ],
   "source": [
    "data.head()"
   ]
  },
  {
   "cell_type": "code",
   "execution_count": 9,
   "metadata": {},
   "outputs": [
    {
     "name": "stdout",
     "output_type": "stream",
     "text": [
      "GDP per capita of 石家庄市 ： 59645.0\n"
     ]
    }
   ],
   "source": [
    "gdp = xlrd.open_workbook('2015-2017GDP.xlsx')\n",
    "gdp.sheet_names()\n",
    "table = gdp.sheet_by_index(1)\n",
    "city = table.col_values(1)[1:]\n",
    "p_gdp = table.col_values(3)[1:]\n",
    "g = {c:d for c,d in zip(city,p_gdp)}\n",
    "print(\"GDP per capita of 石家庄市 ：\",g['石家庄市'])"
   ]
  },
  {
   "cell_type": "markdown",
   "metadata": {},
   "source": [
    "open the GDP file and get the data of GDP of each city."
   ]
  },
  {
   "cell_type": "code",
   "execution_count": 10,
   "metadata": {},
   "outputs": [],
   "source": [
    "for province in china_data:\n",
    "    for city in province['districts']:\n",
    "        if city['name'] in g.keys():\n",
    "#             print(city['name'])\n",
    "            data = data.append({'city' : city['name'],\n",
    "                         'x' : city['center'].split(',')[0],\n",
    "                         'y' : city['center'].split(',')[1],\n",
    "                         'gdp_per_capta' : g[city['name']]\n",
    "                        },ignore_index= True)"
   ]
  },
  {
   "cell_type": "markdown",
   "metadata": {},
   "source": [
    "Now we can get the coordinations and GDP data together"
   ]
  },
  {
   "cell_type": "code",
   "execution_count": 11,
   "metadata": {},
   "outputs": [
    {
     "name": "stdout",
     "output_type": "stream",
     "text": [
      "(149, 4)\n"
     ]
    },
    {
     "data": {
      "text/html": [
       "<div>\n",
       "<style scoped>\n",
       "    .dataframe tbody tr th:only-of-type {\n",
       "        vertical-align: middle;\n",
       "    }\n",
       "\n",
       "    .dataframe tbody tr th {\n",
       "        vertical-align: top;\n",
       "    }\n",
       "\n",
       "    .dataframe thead th {\n",
       "        text-align: right;\n",
       "    }\n",
       "</style>\n",
       "<table border=\"1\" class=\"dataframe\">\n",
       "  <thead>\n",
       "    <tr style=\"text-align: right;\">\n",
       "      <th></th>\n",
       "      <th>city</th>\n",
       "      <th>x</th>\n",
       "      <th>y</th>\n",
       "      <th>gdp_per_capta</th>\n",
       "    </tr>\n",
       "  </thead>\n",
       "  <tbody>\n",
       "    <tr>\n",
       "      <th>0</th>\n",
       "      <td>石家庄市</td>\n",
       "      <td>114.514793</td>\n",
       "      <td>38.042228</td>\n",
       "      <td>59645.0</td>\n",
       "    </tr>\n",
       "    <tr>\n",
       "      <th>1</th>\n",
       "      <td>唐山市</td>\n",
       "      <td>118.180193</td>\n",
       "      <td>39.630867</td>\n",
       "      <td>90290.0</td>\n",
       "    </tr>\n",
       "    <tr>\n",
       "      <th>2</th>\n",
       "      <td>秦皇岛市</td>\n",
       "      <td>119.518197</td>\n",
       "      <td>39.888701</td>\n",
       "      <td>48539.0</td>\n",
       "    </tr>\n",
       "    <tr>\n",
       "      <th>3</th>\n",
       "      <td>邯郸市</td>\n",
       "      <td>114.538959</td>\n",
       "      <td>36.625594</td>\n",
       "      <td>38585.0</td>\n",
       "    </tr>\n",
       "    <tr>\n",
       "      <th>4</th>\n",
       "      <td>邢台市</td>\n",
       "      <td>114.504677</td>\n",
       "      <td>37.070834</td>\n",
       "      <td>30486.0</td>\n",
       "    </tr>\n",
       "  </tbody>\n",
       "</table>\n",
       "</div>"
      ],
      "text/plain": [
       "   city           x          y  gdp_per_capta\n",
       "0  石家庄市  114.514793  38.042228        59645.0\n",
       "1   唐山市  118.180193  39.630867        90290.0\n",
       "2  秦皇岛市  119.518197  39.888701        48539.0\n",
       "3   邯郸市  114.538959  36.625594        38585.0\n",
       "4   邢台市  114.504677  37.070834        30486.0"
      ]
     },
     "execution_count": 11,
     "metadata": {},
     "output_type": "execute_result"
    }
   ],
   "source": [
    "print(data.shape)\n",
    "data.head()"
   ]
  },
  {
   "cell_type": "markdown",
   "metadata": {},
   "source": [
    "We could find the number of data does not match the number of city we initially count, that is for the reason that some"
   ]
  },
  {
   "cell_type": "code",
   "execution_count": 12,
   "metadata": {},
   "outputs": [],
   "source": [
    "CLIENT_ID = 'PSUI5HTST3BUOACVFELLPJVQFNXDKGLITSISKQ4BEQIQXASS' # your Foursquare ID\n",
    "CLIENT_SECRET = 'P2HZLUJ4TXDDIGFNRCPXOS35DJAG4ZEVFNQUFV2Z2A3A0JE1' # your Foursquare Secret\n",
    "VERSION = '20180605' # Foursquare API version"
   ]
  },
  {
   "cell_type": "code",
   "execution_count": 13,
   "metadata": {},
   "outputs": [
    {
     "name": "stdout",
     "output_type": "stream",
     "text": [
      "https://api.foursquare.com/v2/venues/explore?&client_id=PSUI5HTST3BUOACVFELLPJVQFNXDKGLITSISKQ4BEQIQXASS&client_secret=P2HZLUJ4TXDDIGFNRCPXOS35DJAG4ZEVFNQUFV2Z2A3A0JE1&v=20180605&ll=30.128901,104.627636&radius=5000&limit=20\n"
     ]
    }
   ],
   "source": [
    "for bo, la ,lo in zip(data['city'],data['x'],data['y']):\n",
    "    url = 'https://api.foursquare.com/v2/venues/explore?&client_id={}&client_secret={}&v={}&ll={},{}&radius={}&limit={}'.format(\n",
    "    CLIENT_ID, \n",
    "    CLIENT_SECRET, \n",
    "    VERSION, \n",
    "    lo, \n",
    "    la, \n",
    "    5000, \n",
    "    20)\n",
    "print(url)"
   ]
  },
  {
   "cell_type": "code",
   "execution_count": 14,
   "metadata": {
    "scrolled": false
   },
   "outputs": [
    {
     "data": {
      "text/plain": [
       "{'reasons': {'count': 0,\n",
       "  'items': [{'summary': 'This spot is popular',\n",
       "    'type': 'general',\n",
       "    'reasonName': 'globalInteractionReason'}]},\n",
       " 'venue': {'id': '578b3193498eb4b2f5eaf454',\n",
       "  'name': 'Wanda Plaza (万达广场)',\n",
       "  'location': {'lat': 30.130641,\n",
       "   'lng': 104.61853,\n",
       "   'labeledLatLngs': [{'label': 'display',\n",
       "     'lat': 30.130641,\n",
       "     'lng': 104.61853}],\n",
       "   'distance': 897,\n",
       "   'cc': 'CN',\n",
       "   'city': '雁江',\n",
       "   'state': '四川',\n",
       "   'country': '中国',\n",
       "   'formattedAddress': ['雁江', '四川', '中国']},\n",
       "  'categories': [{'id': '4bf58dd8d48988d1fd941735',\n",
       "    'name': 'Shopping Mall',\n",
       "    'pluralName': 'Shopping Malls',\n",
       "    'shortName': 'Mall',\n",
       "    'icon': {'prefix': 'https://ss3.4sqi.net/img/categories_v2/shops/mall_',\n",
       "     'suffix': '.png'},\n",
       "    'primary': True}],\n",
       "  'photos': {'count': 0, 'groups': []}},\n",
       " 'referralId': 'e-0-578b3193498eb4b2f5eaf454-0'}"
      ]
     },
     "execution_count": 14,
     "metadata": {},
     "output_type": "execute_result"
    }
   ],
   "source": [
    "results = requests.get(url).json()\n",
    "results['response']['groups'][0]['items'][0]"
   ]
  },
  {
   "cell_type": "code",
   "execution_count": 15,
   "metadata": {},
   "outputs": [],
   "source": [
    "def get_category_type(row):\n",
    "    try:\n",
    "        categories_list = row['categories']\n",
    "    except:\n",
    "        categories_list = row['venue.categories']\n",
    "        \n",
    "    if len(categories_list) == 0:\n",
    "        return None\n",
    "    else:\n",
    "        return categories_list[0]['name']"
   ]
  },
  {
   "cell_type": "code",
   "execution_count": 16,
   "metadata": {},
   "outputs": [
    {
     "name": "stdout",
     "output_type": "stream",
     "text": [
      "(8, 4)\n"
     ]
    },
    {
     "name": "stderr",
     "output_type": "stream",
     "text": [
      "<ipython-input-16-4fa96f81f802>:3: FutureWarning: pandas.io.json.json_normalize is deprecated, use pandas.json_normalize instead\n",
      "  nearby_venues = json_normalize(venues) # flatten JSON\n"
     ]
    },
    {
     "data": {
      "text/html": [
       "<div>\n",
       "<style scoped>\n",
       "    .dataframe tbody tr th:only-of-type {\n",
       "        vertical-align: middle;\n",
       "    }\n",
       "\n",
       "    .dataframe tbody tr th {\n",
       "        vertical-align: top;\n",
       "    }\n",
       "\n",
       "    .dataframe thead th {\n",
       "        text-align: right;\n",
       "    }\n",
       "</style>\n",
       "<table border=\"1\" class=\"dataframe\">\n",
       "  <thead>\n",
       "    <tr style=\"text-align: right;\">\n",
       "      <th></th>\n",
       "      <th>name</th>\n",
       "      <th>categories</th>\n",
       "      <th>lat</th>\n",
       "      <th>lng</th>\n",
       "    </tr>\n",
       "  </thead>\n",
       "  <tbody>\n",
       "    <tr>\n",
       "      <th>0</th>\n",
       "      <td>Wanda Plaza (万达广场)</td>\n",
       "      <td>Shopping Mall</td>\n",
       "      <td>30.130641</td>\n",
       "      <td>104.618530</td>\n",
       "    </tr>\n",
       "    <tr>\n",
       "      <th>1</th>\n",
       "      <td>波波兔儿面</td>\n",
       "      <td>Szechuan Restaurant</td>\n",
       "      <td>30.126538</td>\n",
       "      <td>104.620496</td>\n",
       "    </tr>\n",
       "    <tr>\n",
       "      <th>2</th>\n",
       "      <td>Jinjiang Shuheng Hotel</td>\n",
       "      <td>Hotel</td>\n",
       "      <td>30.129404</td>\n",
       "      <td>104.609438</td>\n",
       "    </tr>\n",
       "    <tr>\n",
       "      <th>3</th>\n",
       "      <td>Shuhen Jin Hotel</td>\n",
       "      <td>Hotel</td>\n",
       "      <td>30.132418</td>\n",
       "      <td>104.609424</td>\n",
       "    </tr>\n",
       "    <tr>\n",
       "      <th>4</th>\n",
       "      <td>南门市场</td>\n",
       "      <td>Market</td>\n",
       "      <td>30.112903</td>\n",
       "      <td>104.650748</td>\n",
       "    </tr>\n",
       "  </tbody>\n",
       "</table>\n",
       "</div>"
      ],
      "text/plain": [
       "                     name           categories        lat         lng\n",
       "0      Wanda Plaza (万达广场)        Shopping Mall  30.130641  104.618530\n",
       "1                   波波兔儿面  Szechuan Restaurant  30.126538  104.620496\n",
       "2  Jinjiang Shuheng Hotel                Hotel  30.129404  104.609438\n",
       "3        Shuhen Jin Hotel                Hotel  30.132418  104.609424\n",
       "4                    南门市场               Market  30.112903  104.650748"
      ]
     },
     "execution_count": 16,
     "metadata": {},
     "output_type": "execute_result"
    }
   ],
   "source": [
    "venues = results['response']['groups'][0]['items']\n",
    "    \n",
    "nearby_venues = json_normalize(venues) # flatten JSON\n",
    "\n",
    "# filter columns\n",
    "filtered_columns = ['venue.name', 'venue.categories', 'venue.location.lat', 'venue.location.lng']\n",
    "nearby_venues =nearby_venues.loc[:, filtered_columns]\n",
    "\n",
    "# filter the category for each row\n",
    "nearby_venues['venue.categories'] = nearby_venues.apply(get_category_type, axis=1)\n",
    "\n",
    "# clean columns\n",
    "nearby_venues.columns = [col.split(\".\")[-1] for col in nearby_venues.columns]\n",
    "print(nearby_venues.shape)\n",
    "nearby_venues.head()"
   ]
  },
  {
   "cell_type": "code",
   "execution_count": 17,
   "metadata": {},
   "outputs": [
    {
     "name": "stdout",
     "output_type": "stream",
     "text": [
      "8 venues were returned by Foursquare.\n"
     ]
    }
   ],
   "source": [
    "print('{} venues were returned by Foursquare.'.format(nearby_venues.shape[0]))"
   ]
  },
  {
   "cell_type": "code",
   "execution_count": 18,
   "metadata": {},
   "outputs": [],
   "source": [
    "def getNearbyVenues(names, latitudes, longitudes, radius):\n",
    "    \n",
    "    venues_list=[]\n",
    "    for name, lat, lng in zip(names, latitudes, longitudes):\n",
    "        print(name,end='\\t')\n",
    "            \n",
    "        # create the API request URL\n",
    "        url = 'https://api.foursquare.com/v2/venues/explore?&client_id={}&client_secret={}&v={}&ll={},{}&radius={}&limit={}'.format(\n",
    "            CLIENT_ID, \n",
    "            CLIENT_SECRET, \n",
    "            VERSION, \n",
    "            lat, \n",
    "            lng, \n",
    "            radius, \n",
    "            100)\n",
    "            \n",
    "        # make the GET request\n",
    "        try:\n",
    "            results = requests.get(url).json()[\"response\"]['groups'][0]['items']\n",
    "        except Keyerror:\n",
    "            continue\n",
    "        \n",
    "        # return only relevant information for each nearby venue\n",
    "        venues_list.append([(\n",
    "            name, \n",
    "            lat, \n",
    "            lng, \n",
    "            v['venue']['name'], \n",
    "            v['venue']['location']['lat'], \n",
    "            v['venue']['location']['lng'],  \n",
    "            v['venue']['categories'][0]['name']) for v in results])\n",
    "\n",
    "    nearby_venues = pd.DataFrame([item for venue_list in venues_list for item in venue_list])\n",
    "    nearby_venues.columns = ['Neighborhood', \n",
    "                  'Neighborhood Latitude', \n",
    "                  'Neighborhood Longitude', \n",
    "                  'Venue', \n",
    "                  'Venue Latitude', \n",
    "                  'Venue Longitude', \n",
    "                  'Venue Category']\n",
    "    \n",
    "    return(nearby_venues)"
   ]
  },
  {
   "cell_type": "code",
   "execution_count": 19,
   "metadata": {
    "scrolled": true
   },
   "outputs": [
    {
     "name": "stdout",
     "output_type": "stream",
     "text": [
      "石家庄市\t唐山市\t秦皇岛市\t邯郸市\t邢台市\t保定市\t张家口市\t承德市\t沧州市\t廊坊市\t衡水市\t太原市\t大同市\t阳泉市\t长治市\t晋城市\t朔州市\t晋中市\t运城市\t忻州市\t临汾市\t吕梁市\t南京市\t无锡市\t徐州市\t常州市\t苏州市\t南通市\t连云港市\t淮安市\t盐城市\t扬州市\t镇江市\t泰州市\t宿迁市\t杭州市\t宁波市\t温州市\t嘉兴市\t湖州市\t绍兴市\t金华市\t衢州市\t舟山市\t台州市\t丽水市\t福州市\t厦门市\t莆田市\t三明市\t泉州市\t漳州市\t南平市\t龙岩市\t宁德市\t济南市\t青岛市\t淄博市\t枣庄市\t东营市\t烟台市\t潍坊市\t济宁市\t泰安市\t威海市\t日照市\t莱芜市\t临沂市\t德州市\t聊城市\t滨州市\t菏泽市\t武汉市\t黄石市\t十堰市\t宜昌市\t襄阳市\t鄂州市\t荆门市\t孝感市\t荆州市\t黄冈市\t咸宁市\t随州市\t恩施土家族苗族自治州\t长沙市\t株洲市\t湘潭市\t衡阳市\t邵阳市\t岳阳市\t常德市\t张家界市\t益阳市\t郴州市\t永州市\t怀化市\t娄底市\t湘西土家族苗族自治州\t广州市\t韶关市\t深圳市\t珠海市\t汕头市\t佛山市\t江门市\t湛江市\t茂名市\t肇庆市\t惠州市\t梅州市\t汕尾市\t河源市\t阳江市\t清远市\t东莞市\t中山市\t潮州市\t揭阳市\t云浮市\t澄迈县\t海口市\t三亚市\t儋州市\t定安县\t东方市\t临高县\t琼海市\t屯昌县\t万宁市\t文昌市\t五指山市\t成都市\t自贡市\t攀枝花市\t泸州市\t德阳市\t绵阳市\t广元市\t遂宁市\t内江市\t乐山市\t南充市\t眉山市\t宜宾市\t广安市\t达州市\t雅安市\t资阳市\t"
     ]
    }
   ],
   "source": [
    "venues = getNearbyVenues(names=data['city'],\n",
    "                                   latitudes=data['y'],\n",
    "                                   longitudes=data['x'],\n",
    "                                   radius = 10000\n",
    "                                  )"
   ]
  },
  {
   "cell_type": "code",
   "execution_count": 20,
   "metadata": {},
   "outputs": [
    {
     "data": {
      "text/plain": [
       "(2255, 7)"
      ]
     },
     "execution_count": 20,
     "metadata": {},
     "output_type": "execute_result"
    }
   ],
   "source": [
    "venues.shape"
   ]
  },
  {
   "cell_type": "code",
   "execution_count": 21,
   "metadata": {
    "scrolled": true
   },
   "outputs": [
    {
     "data": {
      "text/plain": [
       "Airport Lounge              1\n",
       "Donut Shop                  1\n",
       "Arcade                      1\n",
       "Outdoor Supply Store        1\n",
       "Dive Bar                    1\n",
       "Baby Store                  1\n",
       "Toll Plaza                  1\n",
       "Casino                      1\n",
       "Shanxi Restaurant           1\n",
       "Soccer Field                1\n",
       "Event Space                 1\n",
       "Bubble Tea Shop             1\n",
       "Racetrack                   1\n",
       "Playground                  1\n",
       "Mediterranean Restaurant    1\n",
       "Cave                        1\n",
       "Pie Shop                    1\n",
       "Halal Restaurant            1\n",
       "Nature Preserve             1\n",
       "Intersection                1\n",
       "Name: Venue Category, dtype: int64"
      ]
     },
     "execution_count": 21,
     "metadata": {},
     "output_type": "execute_result"
    }
   ],
   "source": [
    "venues[\"Venue Category\"].value_counts()[-20:]"
   ]
  },
  {
   "cell_type": "code",
   "execution_count": 22,
   "metadata": {},
   "outputs": [
    {
     "data": {
      "text/html": [
       "<div>\n",
       "<style scoped>\n",
       "    .dataframe tbody tr th:only-of-type {\n",
       "        vertical-align: middle;\n",
       "    }\n",
       "\n",
       "    .dataframe tbody tr th {\n",
       "        vertical-align: top;\n",
       "    }\n",
       "\n",
       "    .dataframe thead th {\n",
       "        text-align: right;\n",
       "    }\n",
       "</style>\n",
       "<table border=\"1\" class=\"dataframe\">\n",
       "  <thead>\n",
       "    <tr style=\"text-align: right;\">\n",
       "      <th></th>\n",
       "      <th>Neighborhood Latitude</th>\n",
       "      <th>Neighborhood Longitude</th>\n",
       "      <th>Venue</th>\n",
       "      <th>Venue Latitude</th>\n",
       "      <th>Venue Longitude</th>\n",
       "      <th>Venue Category</th>\n",
       "    </tr>\n",
       "    <tr>\n",
       "      <th>Neighborhood</th>\n",
       "      <th></th>\n",
       "      <th></th>\n",
       "      <th></th>\n",
       "      <th></th>\n",
       "      <th></th>\n",
       "      <th></th>\n",
       "    </tr>\n",
       "  </thead>\n",
       "  <tbody>\n",
       "    <tr>\n",
       "      <th>屯昌县</th>\n",
       "      <td>1</td>\n",
       "      <td>1</td>\n",
       "      <td>1</td>\n",
       "      <td>1</td>\n",
       "      <td>1</td>\n",
       "      <td>1</td>\n",
       "    </tr>\n",
       "    <tr>\n",
       "      <th>澄迈县</th>\n",
       "      <td>1</td>\n",
       "      <td>1</td>\n",
       "      <td>1</td>\n",
       "      <td>1</td>\n",
       "      <td>1</td>\n",
       "      <td>1</td>\n",
       "    </tr>\n",
       "    <tr>\n",
       "      <th>滨州市</th>\n",
       "      <td>3</td>\n",
       "      <td>3</td>\n",
       "      <td>3</td>\n",
       "      <td>3</td>\n",
       "      <td>3</td>\n",
       "      <td>3</td>\n",
       "    </tr>\n",
       "    <tr>\n",
       "      <th>定安县</th>\n",
       "      <td>3</td>\n",
       "      <td>3</td>\n",
       "      <td>3</td>\n",
       "      <td>3</td>\n",
       "      <td>3</td>\n",
       "      <td>3</td>\n",
       "    </tr>\n",
       "    <tr>\n",
       "      <th>儋州市</th>\n",
       "      <td>3</td>\n",
       "      <td>3</td>\n",
       "      <td>3</td>\n",
       "      <td>3</td>\n",
       "      <td>3</td>\n",
       "      <td>3</td>\n",
       "    </tr>\n",
       "    <tr>\n",
       "      <th>...</th>\n",
       "      <td>...</td>\n",
       "      <td>...</td>\n",
       "      <td>...</td>\n",
       "      <td>...</td>\n",
       "      <td>...</td>\n",
       "      <td>...</td>\n",
       "    </tr>\n",
       "    <tr>\n",
       "      <th>杭州市</th>\n",
       "      <td>100</td>\n",
       "      <td>100</td>\n",
       "      <td>100</td>\n",
       "      <td>100</td>\n",
       "      <td>100</td>\n",
       "      <td>100</td>\n",
       "    </tr>\n",
       "    <tr>\n",
       "      <th>南京市</th>\n",
       "      <td>100</td>\n",
       "      <td>100</td>\n",
       "      <td>100</td>\n",
       "      <td>100</td>\n",
       "      <td>100</td>\n",
       "      <td>100</td>\n",
       "    </tr>\n",
       "    <tr>\n",
       "      <th>深圳市</th>\n",
       "      <td>100</td>\n",
       "      <td>100</td>\n",
       "      <td>100</td>\n",
       "      <td>100</td>\n",
       "      <td>100</td>\n",
       "      <td>100</td>\n",
       "    </tr>\n",
       "    <tr>\n",
       "      <th>广州市</th>\n",
       "      <td>100</td>\n",
       "      <td>100</td>\n",
       "      <td>100</td>\n",
       "      <td>100</td>\n",
       "      <td>100</td>\n",
       "      <td>100</td>\n",
       "    </tr>\n",
       "    <tr>\n",
       "      <th>厦门市</th>\n",
       "      <td>100</td>\n",
       "      <td>100</td>\n",
       "      <td>100</td>\n",
       "      <td>100</td>\n",
       "      <td>100</td>\n",
       "      <td>100</td>\n",
       "    </tr>\n",
       "  </tbody>\n",
       "</table>\n",
       "<p>149 rows × 6 columns</p>\n",
       "</div>"
      ],
      "text/plain": [
       "              Neighborhood Latitude  Neighborhood Longitude  Venue  \\\n",
       "Neighborhood                                                         \n",
       "屯昌县                               1                       1      1   \n",
       "澄迈县                               1                       1      1   \n",
       "滨州市                               3                       3      3   \n",
       "定安县                               3                       3      3   \n",
       "儋州市                               3                       3      3   \n",
       "...                             ...                     ...    ...   \n",
       "杭州市                             100                     100    100   \n",
       "南京市                             100                     100    100   \n",
       "深圳市                             100                     100    100   \n",
       "广州市                             100                     100    100   \n",
       "厦门市                             100                     100    100   \n",
       "\n",
       "              Venue Latitude  Venue Longitude  Venue Category  \n",
       "Neighborhood                                                   \n",
       "屯昌县                        1                1               1  \n",
       "澄迈县                        1                1               1  \n",
       "滨州市                        3                3               3  \n",
       "定安县                        3                3               3  \n",
       "儋州市                        3                3               3  \n",
       "...                      ...              ...             ...  \n",
       "杭州市                      100              100             100  \n",
       "南京市                      100              100             100  \n",
       "深圳市                      100              100             100  \n",
       "广州市                      100              100             100  \n",
       "厦门市                      100              100             100  \n",
       "\n",
       "[149 rows x 6 columns]"
      ]
     },
     "execution_count": 22,
     "metadata": {},
     "output_type": "execute_result"
    }
   ],
   "source": [
    "venues.groupby('Neighborhood').count().sort_values(\"Neighborhood Latitude\")"
   ]
  },
  {
   "cell_type": "code",
   "execution_count": 23,
   "metadata": {},
   "outputs": [
    {
     "data": {
      "text/html": [
       "<div>\n",
       "<style scoped>\n",
       "    .dataframe tbody tr th:only-of-type {\n",
       "        vertical-align: middle;\n",
       "    }\n",
       "\n",
       "    .dataframe tbody tr th {\n",
       "        vertical-align: top;\n",
       "    }\n",
       "\n",
       "    .dataframe thead th {\n",
       "        text-align: right;\n",
       "    }\n",
       "</style>\n",
       "<table border=\"1\" class=\"dataframe\">\n",
       "  <thead>\n",
       "    <tr style=\"text-align: right;\">\n",
       "      <th></th>\n",
       "      <th>city</th>\n",
       "      <th>Afghan Restaurant</th>\n",
       "      <th>Airport</th>\n",
       "      <th>Airport Lounge</th>\n",
       "      <th>American Restaurant</th>\n",
       "      <th>Aquarium</th>\n",
       "      <th>Arcade</th>\n",
       "      <th>Art Gallery</th>\n",
       "      <th>Art Museum</th>\n",
       "      <th>Asian Restaurant</th>\n",
       "      <th>...</th>\n",
       "      <th>Udon Restaurant</th>\n",
       "      <th>University</th>\n",
       "      <th>Vegetarian / Vegan Restaurant</th>\n",
       "      <th>Vietnamese Restaurant</th>\n",
       "      <th>Warehouse Store</th>\n",
       "      <th>Whisky Bar</th>\n",
       "      <th>Wine Bar</th>\n",
       "      <th>Xinjiang Restaurant</th>\n",
       "      <th>Zhejiang Restaurant</th>\n",
       "      <th>Zoo</th>\n",
       "    </tr>\n",
       "  </thead>\n",
       "  <tbody>\n",
       "    <tr>\n",
       "      <th>0</th>\n",
       "      <td>石家庄市</td>\n",
       "      <td>0</td>\n",
       "      <td>0</td>\n",
       "      <td>0</td>\n",
       "      <td>0</td>\n",
       "      <td>0</td>\n",
       "      <td>0</td>\n",
       "      <td>0</td>\n",
       "      <td>0</td>\n",
       "      <td>0</td>\n",
       "      <td>...</td>\n",
       "      <td>0</td>\n",
       "      <td>0</td>\n",
       "      <td>0</td>\n",
       "      <td>0</td>\n",
       "      <td>0</td>\n",
       "      <td>0</td>\n",
       "      <td>0</td>\n",
       "      <td>0</td>\n",
       "      <td>0</td>\n",
       "      <td>0</td>\n",
       "    </tr>\n",
       "    <tr>\n",
       "      <th>1</th>\n",
       "      <td>石家庄市</td>\n",
       "      <td>0</td>\n",
       "      <td>0</td>\n",
       "      <td>0</td>\n",
       "      <td>0</td>\n",
       "      <td>0</td>\n",
       "      <td>0</td>\n",
       "      <td>0</td>\n",
       "      <td>0</td>\n",
       "      <td>0</td>\n",
       "      <td>...</td>\n",
       "      <td>0</td>\n",
       "      <td>0</td>\n",
       "      <td>0</td>\n",
       "      <td>0</td>\n",
       "      <td>0</td>\n",
       "      <td>0</td>\n",
       "      <td>0</td>\n",
       "      <td>0</td>\n",
       "      <td>0</td>\n",
       "      <td>0</td>\n",
       "    </tr>\n",
       "    <tr>\n",
       "      <th>2</th>\n",
       "      <td>石家庄市</td>\n",
       "      <td>0</td>\n",
       "      <td>0</td>\n",
       "      <td>0</td>\n",
       "      <td>0</td>\n",
       "      <td>0</td>\n",
       "      <td>0</td>\n",
       "      <td>0</td>\n",
       "      <td>0</td>\n",
       "      <td>0</td>\n",
       "      <td>...</td>\n",
       "      <td>0</td>\n",
       "      <td>0</td>\n",
       "      <td>0</td>\n",
       "      <td>0</td>\n",
       "      <td>0</td>\n",
       "      <td>0</td>\n",
       "      <td>0</td>\n",
       "      <td>0</td>\n",
       "      <td>0</td>\n",
       "      <td>0</td>\n",
       "    </tr>\n",
       "    <tr>\n",
       "      <th>3</th>\n",
       "      <td>石家庄市</td>\n",
       "      <td>0</td>\n",
       "      <td>0</td>\n",
       "      <td>0</td>\n",
       "      <td>0</td>\n",
       "      <td>0</td>\n",
       "      <td>0</td>\n",
       "      <td>0</td>\n",
       "      <td>0</td>\n",
       "      <td>0</td>\n",
       "      <td>...</td>\n",
       "      <td>0</td>\n",
       "      <td>0</td>\n",
       "      <td>0</td>\n",
       "      <td>0</td>\n",
       "      <td>0</td>\n",
       "      <td>0</td>\n",
       "      <td>0</td>\n",
       "      <td>0</td>\n",
       "      <td>0</td>\n",
       "      <td>0</td>\n",
       "    </tr>\n",
       "    <tr>\n",
       "      <th>4</th>\n",
       "      <td>石家庄市</td>\n",
       "      <td>0</td>\n",
       "      <td>0</td>\n",
       "      <td>0</td>\n",
       "      <td>0</td>\n",
       "      <td>0</td>\n",
       "      <td>0</td>\n",
       "      <td>0</td>\n",
       "      <td>0</td>\n",
       "      <td>0</td>\n",
       "      <td>...</td>\n",
       "      <td>0</td>\n",
       "      <td>0</td>\n",
       "      <td>0</td>\n",
       "      <td>0</td>\n",
       "      <td>0</td>\n",
       "      <td>0</td>\n",
       "      <td>0</td>\n",
       "      <td>0</td>\n",
       "      <td>0</td>\n",
       "      <td>0</td>\n",
       "    </tr>\n",
       "  </tbody>\n",
       "</table>\n",
       "<p>5 rows × 205 columns</p>\n",
       "</div>"
      ],
      "text/plain": [
       "   city  Afghan Restaurant  Airport  Airport Lounge  American Restaurant  \\\n",
       "0  石家庄市                  0        0               0                    0   \n",
       "1  石家庄市                  0        0               0                    0   \n",
       "2  石家庄市                  0        0               0                    0   \n",
       "3  石家庄市                  0        0               0                    0   \n",
       "4  石家庄市                  0        0               0                    0   \n",
       "\n",
       "   Aquarium  Arcade  Art Gallery  Art Museum  Asian Restaurant  ...  \\\n",
       "0         0       0            0           0                 0  ...   \n",
       "1         0       0            0           0                 0  ...   \n",
       "2         0       0            0           0                 0  ...   \n",
       "3         0       0            0           0                 0  ...   \n",
       "4         0       0            0           0                 0  ...   \n",
       "\n",
       "   Udon Restaurant  University  Vegetarian / Vegan Restaurant  \\\n",
       "0                0           0                              0   \n",
       "1                0           0                              0   \n",
       "2                0           0                              0   \n",
       "3                0           0                              0   \n",
       "4                0           0                              0   \n",
       "\n",
       "   Vietnamese Restaurant  Warehouse Store  Whisky Bar  Wine Bar  \\\n",
       "0                      0                0           0         0   \n",
       "1                      0                0           0         0   \n",
       "2                      0                0           0         0   \n",
       "3                      0                0           0         0   \n",
       "4                      0                0           0         0   \n",
       "\n",
       "   Xinjiang Restaurant  Zhejiang Restaurant  Zoo  \n",
       "0                    0                    0    0  \n",
       "1                    0                    0    0  \n",
       "2                    0                    0    0  \n",
       "3                    0                    0    0  \n",
       "4                    0                    0    0  \n",
       "\n",
       "[5 rows x 205 columns]"
      ]
     },
     "execution_count": 23,
     "metadata": {},
     "output_type": "execute_result"
    }
   ],
   "source": [
    "manhattan_onehot = pd.get_dummies(venues[['Venue Category']], prefix=\"\", prefix_sep=\"\")\n",
    "\n",
    "# add neighborhood column back to dataframe\n",
    "manhattan_onehot['city'] = venues['Neighborhood'] \n",
    "\n",
    "# move neighborhood column to the first column\n",
    "fixed_columns = [manhattan_onehot.columns[-1]] + list(manhattan_onehot.columns[:-1])\n",
    "manhattan_onehot = manhattan_onehot[fixed_columns]\n",
    "\n",
    "manhattan_onehot.head()"
   ]
  },
  {
   "cell_type": "code",
   "execution_count": 24,
   "metadata": {},
   "outputs": [
    {
     "data": {
      "text/plain": [
       "(2255, 205)"
      ]
     },
     "execution_count": 24,
     "metadata": {},
     "output_type": "execute_result"
    }
   ],
   "source": [
    "manhattan_onehot.shape"
   ]
  },
  {
   "cell_type": "code",
   "execution_count": 27,
   "metadata": {
    "scrolled": false
   },
   "outputs": [
    {
     "data": {
      "text/html": [
       "<div>\n",
       "<style scoped>\n",
       "    .dataframe tbody tr th:only-of-type {\n",
       "        vertical-align: middle;\n",
       "    }\n",
       "\n",
       "    .dataframe tbody tr th {\n",
       "        vertical-align: top;\n",
       "    }\n",
       "\n",
       "    .dataframe thead th {\n",
       "        text-align: right;\n",
       "    }\n",
       "</style>\n",
       "<table border=\"1\" class=\"dataframe\">\n",
       "  <thead>\n",
       "    <tr style=\"text-align: right;\">\n",
       "      <th></th>\n",
       "      <th>city</th>\n",
       "      <th>Afghan Restaurant</th>\n",
       "      <th>Airport</th>\n",
       "      <th>Airport Lounge</th>\n",
       "      <th>American Restaurant</th>\n",
       "      <th>Aquarium</th>\n",
       "      <th>Arcade</th>\n",
       "      <th>Art Gallery</th>\n",
       "      <th>Art Museum</th>\n",
       "      <th>Asian Restaurant</th>\n",
       "      <th>...</th>\n",
       "      <th>Udon Restaurant</th>\n",
       "      <th>University</th>\n",
       "      <th>Vegetarian / Vegan Restaurant</th>\n",
       "      <th>Vietnamese Restaurant</th>\n",
       "      <th>Warehouse Store</th>\n",
       "      <th>Whisky Bar</th>\n",
       "      <th>Wine Bar</th>\n",
       "      <th>Xinjiang Restaurant</th>\n",
       "      <th>Zhejiang Restaurant</th>\n",
       "      <th>Zoo</th>\n",
       "    </tr>\n",
       "  </thead>\n",
       "  <tbody>\n",
       "    <tr>\n",
       "      <th>0</th>\n",
       "      <td>万宁市</td>\n",
       "      <td>0.0</td>\n",
       "      <td>0.0</td>\n",
       "      <td>0.0</td>\n",
       "      <td>0.000000</td>\n",
       "      <td>0.000000</td>\n",
       "      <td>0.0</td>\n",
       "      <td>0.0</td>\n",
       "      <td>0.0</td>\n",
       "      <td>0.000000</td>\n",
       "      <td>...</td>\n",
       "      <td>0.0</td>\n",
       "      <td>0.0</td>\n",
       "      <td>0.0</td>\n",
       "      <td>0.0</td>\n",
       "      <td>0.0</td>\n",
       "      <td>0.0</td>\n",
       "      <td>0.0</td>\n",
       "      <td>0.0</td>\n",
       "      <td>0.0</td>\n",
       "      <td>0.0</td>\n",
       "    </tr>\n",
       "    <tr>\n",
       "      <th>1</th>\n",
       "      <td>三亚市</td>\n",
       "      <td>0.0</td>\n",
       "      <td>0.0</td>\n",
       "      <td>0.0</td>\n",
       "      <td>0.000000</td>\n",
       "      <td>0.000000</td>\n",
       "      <td>0.0</td>\n",
       "      <td>0.0</td>\n",
       "      <td>0.0</td>\n",
       "      <td>0.032787</td>\n",
       "      <td>...</td>\n",
       "      <td>0.0</td>\n",
       "      <td>0.0</td>\n",
       "      <td>0.0</td>\n",
       "      <td>0.0</td>\n",
       "      <td>0.0</td>\n",
       "      <td>0.0</td>\n",
       "      <td>0.0</td>\n",
       "      <td>0.0</td>\n",
       "      <td>0.0</td>\n",
       "      <td>0.0</td>\n",
       "    </tr>\n",
       "    <tr>\n",
       "      <th>2</th>\n",
       "      <td>三明市</td>\n",
       "      <td>0.0</td>\n",
       "      <td>0.0</td>\n",
       "      <td>0.0</td>\n",
       "      <td>0.000000</td>\n",
       "      <td>0.000000</td>\n",
       "      <td>0.0</td>\n",
       "      <td>0.0</td>\n",
       "      <td>0.0</td>\n",
       "      <td>0.000000</td>\n",
       "      <td>...</td>\n",
       "      <td>0.0</td>\n",
       "      <td>0.0</td>\n",
       "      <td>0.0</td>\n",
       "      <td>0.0</td>\n",
       "      <td>0.0</td>\n",
       "      <td>0.0</td>\n",
       "      <td>0.0</td>\n",
       "      <td>0.0</td>\n",
       "      <td>0.0</td>\n",
       "      <td>0.0</td>\n",
       "    </tr>\n",
       "    <tr>\n",
       "      <th>3</th>\n",
       "      <td>东方市</td>\n",
       "      <td>0.0</td>\n",
       "      <td>0.0</td>\n",
       "      <td>0.0</td>\n",
       "      <td>0.000000</td>\n",
       "      <td>0.000000</td>\n",
       "      <td>0.0</td>\n",
       "      <td>0.0</td>\n",
       "      <td>0.0</td>\n",
       "      <td>0.000000</td>\n",
       "      <td>...</td>\n",
       "      <td>0.0</td>\n",
       "      <td>0.0</td>\n",
       "      <td>0.0</td>\n",
       "      <td>0.0</td>\n",
       "      <td>0.0</td>\n",
       "      <td>0.0</td>\n",
       "      <td>0.0</td>\n",
       "      <td>0.0</td>\n",
       "      <td>0.0</td>\n",
       "      <td>0.0</td>\n",
       "    </tr>\n",
       "    <tr>\n",
       "      <th>4</th>\n",
       "      <td>东莞市</td>\n",
       "      <td>0.0</td>\n",
       "      <td>0.0</td>\n",
       "      <td>0.0</td>\n",
       "      <td>0.000000</td>\n",
       "      <td>0.000000</td>\n",
       "      <td>0.0</td>\n",
       "      <td>0.0</td>\n",
       "      <td>0.0</td>\n",
       "      <td>0.000000</td>\n",
       "      <td>...</td>\n",
       "      <td>0.0</td>\n",
       "      <td>0.0</td>\n",
       "      <td>0.0</td>\n",
       "      <td>0.0</td>\n",
       "      <td>0.0</td>\n",
       "      <td>0.0</td>\n",
       "      <td>0.0</td>\n",
       "      <td>0.0</td>\n",
       "      <td>0.0</td>\n",
       "      <td>0.0</td>\n",
       "    </tr>\n",
       "    <tr>\n",
       "      <th>...</th>\n",
       "      <td>...</td>\n",
       "      <td>...</td>\n",
       "      <td>...</td>\n",
       "      <td>...</td>\n",
       "      <td>...</td>\n",
       "      <td>...</td>\n",
       "      <td>...</td>\n",
       "      <td>...</td>\n",
       "      <td>...</td>\n",
       "      <td>...</td>\n",
       "      <td>...</td>\n",
       "      <td>...</td>\n",
       "      <td>...</td>\n",
       "      <td>...</td>\n",
       "      <td>...</td>\n",
       "      <td>...</td>\n",
       "      <td>...</td>\n",
       "      <td>...</td>\n",
       "      <td>...</td>\n",
       "      <td>...</td>\n",
       "      <td>...</td>\n",
       "    </tr>\n",
       "    <tr>\n",
       "      <th>144</th>\n",
       "      <td>青岛市</td>\n",
       "      <td>0.0</td>\n",
       "      <td>0.0</td>\n",
       "      <td>0.0</td>\n",
       "      <td>0.014085</td>\n",
       "      <td>0.028169</td>\n",
       "      <td>0.0</td>\n",
       "      <td>0.0</td>\n",
       "      <td>0.0</td>\n",
       "      <td>0.000000</td>\n",
       "      <td>...</td>\n",
       "      <td>0.0</td>\n",
       "      <td>0.0</td>\n",
       "      <td>0.0</td>\n",
       "      <td>0.0</td>\n",
       "      <td>0.0</td>\n",
       "      <td>0.0</td>\n",
       "      <td>0.0</td>\n",
       "      <td>0.0</td>\n",
       "      <td>0.0</td>\n",
       "      <td>0.0</td>\n",
       "    </tr>\n",
       "    <tr>\n",
       "      <th>145</th>\n",
       "      <td>韶关市</td>\n",
       "      <td>0.0</td>\n",
       "      <td>0.0</td>\n",
       "      <td>0.0</td>\n",
       "      <td>0.000000</td>\n",
       "      <td>0.000000</td>\n",
       "      <td>0.0</td>\n",
       "      <td>0.0</td>\n",
       "      <td>0.0</td>\n",
       "      <td>0.000000</td>\n",
       "      <td>...</td>\n",
       "      <td>0.0</td>\n",
       "      <td>0.0</td>\n",
       "      <td>0.0</td>\n",
       "      <td>0.0</td>\n",
       "      <td>0.0</td>\n",
       "      <td>0.0</td>\n",
       "      <td>0.0</td>\n",
       "      <td>0.0</td>\n",
       "      <td>0.0</td>\n",
       "      <td>0.0</td>\n",
       "    </tr>\n",
       "    <tr>\n",
       "      <th>146</th>\n",
       "      <td>黄冈市</td>\n",
       "      <td>0.0</td>\n",
       "      <td>0.0</td>\n",
       "      <td>0.0</td>\n",
       "      <td>0.000000</td>\n",
       "      <td>0.000000</td>\n",
       "      <td>0.0</td>\n",
       "      <td>0.0</td>\n",
       "      <td>0.0</td>\n",
       "      <td>0.000000</td>\n",
       "      <td>...</td>\n",
       "      <td>0.0</td>\n",
       "      <td>0.0</td>\n",
       "      <td>0.0</td>\n",
       "      <td>0.0</td>\n",
       "      <td>0.0</td>\n",
       "      <td>0.0</td>\n",
       "      <td>0.0</td>\n",
       "      <td>0.0</td>\n",
       "      <td>0.0</td>\n",
       "      <td>0.0</td>\n",
       "    </tr>\n",
       "    <tr>\n",
       "      <th>147</th>\n",
       "      <td>黄石市</td>\n",
       "      <td>0.0</td>\n",
       "      <td>0.0</td>\n",
       "      <td>0.0</td>\n",
       "      <td>0.000000</td>\n",
       "      <td>0.000000</td>\n",
       "      <td>0.0</td>\n",
       "      <td>0.0</td>\n",
       "      <td>0.0</td>\n",
       "      <td>0.000000</td>\n",
       "      <td>...</td>\n",
       "      <td>0.0</td>\n",
       "      <td>0.0</td>\n",
       "      <td>0.0</td>\n",
       "      <td>0.0</td>\n",
       "      <td>0.0</td>\n",
       "      <td>0.0</td>\n",
       "      <td>0.0</td>\n",
       "      <td>0.0</td>\n",
       "      <td>0.0</td>\n",
       "      <td>0.0</td>\n",
       "    </tr>\n",
       "    <tr>\n",
       "      <th>148</th>\n",
       "      <td>龙岩市</td>\n",
       "      <td>0.0</td>\n",
       "      <td>0.0</td>\n",
       "      <td>0.0</td>\n",
       "      <td>0.000000</td>\n",
       "      <td>0.000000</td>\n",
       "      <td>0.0</td>\n",
       "      <td>0.0</td>\n",
       "      <td>0.0</td>\n",
       "      <td>0.000000</td>\n",
       "      <td>...</td>\n",
       "      <td>0.0</td>\n",
       "      <td>0.0</td>\n",
       "      <td>0.0</td>\n",
       "      <td>0.0</td>\n",
       "      <td>0.0</td>\n",
       "      <td>0.0</td>\n",
       "      <td>0.0</td>\n",
       "      <td>0.0</td>\n",
       "      <td>0.0</td>\n",
       "      <td>0.0</td>\n",
       "    </tr>\n",
       "  </tbody>\n",
       "</table>\n",
       "<p>149 rows × 205 columns</p>\n",
       "</div>"
      ],
      "text/plain": [
       "    city  Afghan Restaurant  Airport  Airport Lounge  American Restaurant  \\\n",
       "0    万宁市                0.0      0.0             0.0             0.000000   \n",
       "1    三亚市                0.0      0.0             0.0             0.000000   \n",
       "2    三明市                0.0      0.0             0.0             0.000000   \n",
       "3    东方市                0.0      0.0             0.0             0.000000   \n",
       "4    东莞市                0.0      0.0             0.0             0.000000   \n",
       "..   ...                ...      ...             ...                  ...   \n",
       "144  青岛市                0.0      0.0             0.0             0.014085   \n",
       "145  韶关市                0.0      0.0             0.0             0.000000   \n",
       "146  黄冈市                0.0      0.0             0.0             0.000000   \n",
       "147  黄石市                0.0      0.0             0.0             0.000000   \n",
       "148  龙岩市                0.0      0.0             0.0             0.000000   \n",
       "\n",
       "     Aquarium  Arcade  Art Gallery  Art Museum  Asian Restaurant  ...  \\\n",
       "0    0.000000     0.0          0.0         0.0          0.000000  ...   \n",
       "1    0.000000     0.0          0.0         0.0          0.032787  ...   \n",
       "2    0.000000     0.0          0.0         0.0          0.000000  ...   \n",
       "3    0.000000     0.0          0.0         0.0          0.000000  ...   \n",
       "4    0.000000     0.0          0.0         0.0          0.000000  ...   \n",
       "..        ...     ...          ...         ...               ...  ...   \n",
       "144  0.028169     0.0          0.0         0.0          0.000000  ...   \n",
       "145  0.000000     0.0          0.0         0.0          0.000000  ...   \n",
       "146  0.000000     0.0          0.0         0.0          0.000000  ...   \n",
       "147  0.000000     0.0          0.0         0.0          0.000000  ...   \n",
       "148  0.000000     0.0          0.0         0.0          0.000000  ...   \n",
       "\n",
       "     Udon Restaurant  University  Vegetarian / Vegan Restaurant  \\\n",
       "0                0.0         0.0                            0.0   \n",
       "1                0.0         0.0                            0.0   \n",
       "2                0.0         0.0                            0.0   \n",
       "3                0.0         0.0                            0.0   \n",
       "4                0.0         0.0                            0.0   \n",
       "..               ...         ...                            ...   \n",
       "144              0.0         0.0                            0.0   \n",
       "145              0.0         0.0                            0.0   \n",
       "146              0.0         0.0                            0.0   \n",
       "147              0.0         0.0                            0.0   \n",
       "148              0.0         0.0                            0.0   \n",
       "\n",
       "     Vietnamese Restaurant  Warehouse Store  Whisky Bar  Wine Bar  \\\n",
       "0                      0.0              0.0         0.0       0.0   \n",
       "1                      0.0              0.0         0.0       0.0   \n",
       "2                      0.0              0.0         0.0       0.0   \n",
       "3                      0.0              0.0         0.0       0.0   \n",
       "4                      0.0              0.0         0.0       0.0   \n",
       "..                     ...              ...         ...       ...   \n",
       "144                    0.0              0.0         0.0       0.0   \n",
       "145                    0.0              0.0         0.0       0.0   \n",
       "146                    0.0              0.0         0.0       0.0   \n",
       "147                    0.0              0.0         0.0       0.0   \n",
       "148                    0.0              0.0         0.0       0.0   \n",
       "\n",
       "     Xinjiang Restaurant  Zhejiang Restaurant  Zoo  \n",
       "0                    0.0                  0.0  0.0  \n",
       "1                    0.0                  0.0  0.0  \n",
       "2                    0.0                  0.0  0.0  \n",
       "3                    0.0                  0.0  0.0  \n",
       "4                    0.0                  0.0  0.0  \n",
       "..                   ...                  ...  ...  \n",
       "144                  0.0                  0.0  0.0  \n",
       "145                  0.0                  0.0  0.0  \n",
       "146                  0.0                  0.0  0.0  \n",
       "147                  0.0                  0.0  0.0  \n",
       "148                  0.0                  0.0  0.0  \n",
       "\n",
       "[149 rows x 205 columns]"
      ]
     },
     "execution_count": 27,
     "metadata": {},
     "output_type": "execute_result"
    }
   ],
   "source": [
    "manhattan_grouped = manhattan_onehot.groupby('city').mean().reset_index()\n",
    "manhattan_grouped"
   ]
  },
  {
   "cell_type": "code",
   "execution_count": 29,
   "metadata": {
    "scrolled": false
   },
   "outputs": [
    {
     "name": "stdout",
     "output_type": "stream",
     "text": [
      "----万宁市----\n",
      "                  venue  freq\n",
      "0          Intersection  0.25\n",
      "1    Chinese Restaurant  0.25\n",
      "2  Fast Food Restaurant  0.25\n",
      "3         Train Station  0.25\n",
      "4     Afghan Restaurant  0.00\n",
      "\n",
      "\n",
      "----三亚市----\n",
      "                  venue  freq\n",
      "0                 Hotel  0.15\n",
      "1                Resort  0.11\n",
      "2  Fast Food Restaurant  0.08\n",
      "3           Pizza Place  0.05\n",
      "4                 Beach  0.05\n",
      "\n",
      "\n",
      "----三明市----\n",
      "              venue  freq\n",
      "0             Hotel  0.50\n",
      "1       Pizza Place  0.25\n",
      "2    Shopping Plaza  0.25\n",
      "3  Pedestrian Plaza  0.00\n",
      "4      Neighborhood  0.00\n",
      "\n",
      "\n",
      "----东方市----\n",
      "               venue  freq\n",
      "0      Train Station   0.4\n",
      "1              Beach   0.2\n",
      "2    Harbor / Marina   0.2\n",
      "3        Bus Station   0.2\n",
      "4  Afghan Restaurant   0.0\n",
      "\n",
      "\n",
      "----东莞市----\n",
      "                  venue  freq\n",
      "0           Coffee Shop  0.22\n",
      "1  Fast Food Restaurant  0.12\n",
      "2    Italian Restaurant  0.10\n",
      "3           Pizza Place  0.07\n",
      "4                 Hotel  0.07\n",
      "\n",
      "\n"
     ]
    }
   ],
   "source": [
    "num_top_venues = 5\n",
    "\n",
    "for hood in manhattan_grouped['city'][:5]:\n",
    "    print(\"----\"+hood+\"----\")\n",
    "    temp = manhattan_grouped[manhattan_grouped['city'] == hood].T.reset_index()\n",
    "    temp.columns = ['venue','freq']\n",
    "    temp = temp.iloc[1:]\n",
    "    temp['freq'] = temp['freq'].astype(float)\n",
    "    temp = temp.round({'freq': 2})\n",
    "    print(temp.sort_values('freq', ascending=False).reset_index(drop=True).head(num_top_venues))\n",
    "    print('\\n')"
   ]
  },
  {
   "cell_type": "code",
   "execution_count": 30,
   "metadata": {},
   "outputs": [
    {
     "name": "stdout",
     "output_type": "stream",
     "text": [
      "Residual sum of squares: 1316241803.28\n",
      "Variance score: -0.28\n"
     ]
    }
   ],
   "source": [
    "## linear regression\n",
    "selected_venues = list(manhattan_grouped.iloc[:,1:].var().sort_values(ascending =False)[:5].index)\n",
    "city_grouped = manhattan_grouped[['city']+selected_venues]\n",
    "city_grouped[city_grouped.sum(axis =1)>0.5]\n",
    "data_all = pd.merge(data,city_grouped,left_on= 'city',right_on = 'city')\n",
    "from sklearn import linear_model\n",
    "regr = linear_model.LinearRegression()\n",
    "x = np.asarray(data_all.loc[:100,selected_venues])\n",
    "y = np.asarray(data_all.loc[:100,'gdp_per_capta'])\n",
    "regr.fit(x,y)\n",
    "y_hat= regr.predict(data_all.loc[100:,selected_venues])\n",
    "x_test = np.asarray(data_all.loc[100:,selected_venues])\n",
    "y_test = np.asarray(data_all.loc[100:,'gdp_per_capta'])\n",
    "print(\"Residual sum of squares: %.2f\"\n",
    "      % np.mean((y_hat - y_test) ** 2))\n",
    "\n",
    "# Explained variance score: 1 is perfect prediction\n",
    "print('Variance score: %.2f' % regr.score(x_test, y_test))"
   ]
  },
  {
   "cell_type": "code",
   "execution_count": 31,
   "metadata": {
    "scrolled": false
   },
   "outputs": [
    {
     "data": {
      "text/plain": [
       "(array([ 0.,  3., 21., 10.,  6.,  1.,  4.,  1.,  0.,  1.,  0.,  1.,  0.,\n",
       "         1.,  0.]),\n",
       " array([     0.        ,  13333.33333333,  26666.66666667,  40000.        ,\n",
       "         53333.33333333,  66666.66666667,  80000.        ,  93333.33333333,\n",
       "        106666.66666667, 120000.        , 133333.33333333, 146666.66666667,\n",
       "        160000.        , 173333.33333333, 186666.66666667, 200000.        ]),\n",
       " <a list of 15 Patch objects>)"
      ]
     },
     "execution_count": 31,
     "metadata": {},
     "output_type": "execute_result"
    },
    {
     "data": {
      "image/png": "[encoded data removed]",
      "text/plain": [
       "<Figure size 432x288 with 1 Axes>"
      ]
     },
     "metadata": {
      "needs_background": "light"
     },
     "output_type": "display_data"
    }
   ],
   "source": [
    "m = pd.DataFrame({'y_hat':y_hat,'y_test':y_test})\n",
    "plt.hist(m.y_hat,15,[0,200000],alpha = 0.5)\n",
    "plt.hist(m.y_test,15,[0,200000],alpha = 0.5)"
   ]
  },
  {
   "cell_type": "code",
   "execution_count": 32,
   "metadata": {},
   "outputs": [
    {
     "data": {
      "text/plain": [
       "<matplotlib.axes._subplots.AxesSubplot at 0x7fa0806765b0>"
      ]
     },
     "execution_count": 32,
     "metadata": {},
     "output_type": "execute_result"
    },
    {
     "data": {
      "image/png": "[encoded data removed]",
      "text/plain": [
       "<Figure size 432x288 with 1 Axes>"
      ]
     },
     "metadata": {
      "needs_background": "light"
     },
     "output_type": "display_data"
    }
   ],
   "source": [
    "m.plot(kind = 'scatter',x = 'y_test',y = 'y_hat')"
   ]
  },
  {
   "cell_type": "code",
   "execution_count": 33,
   "metadata": {},
   "outputs": [
    {
     "name": "stdout",
     "output_type": "stream",
     "text": [
      "Residual sum of squares: 711298913.72\n",
      "Variance score: 0.31\n"
     ]
    }
   ],
   "source": [
    "# ## GBDT regression\n",
    "selected_venues = list(manhattan_grouped.iloc[:,1:].var().sort_values(ascending =False)[:5].index)\n",
    "city_grouped = manhattan_grouped[['city']+selected_venues]\n",
    "city_grouped[city_grouped.sum(axis =1)>0.5]\n",
    "data_all = pd.merge(data,city_grouped,left_on= 'city',right_on = 'city')\n",
    "\n",
    "\n",
    "gbr = GradientBoostingRegressor(n_estimators= 200,learning_rate= 0.1)\n",
    "x = np.asarray(data_all.loc[:100,selected_venues])\n",
    "y = np.asarray(data_all.loc[:100,'gdp_per_capta'])\n",
    "gbr.fit(x,y)\n",
    "y_hat= gbr.predict(data_all.loc[100:,selected_venues])\n",
    "x_test = np.asarray(data_all.loc[100:,selected_venues])\n",
    "y_test = np.asarray(data_all.loc[100:,'gdp_per_capta'])\n",
    "print(\"Residual sum of squares: %.2f\"\n",
    "      % np.mean((y_hat - y_test) ** 2))\n",
    "\n",
    "# Explained variance score: 1 is perfect prediction\n",
    "print('Variance score: %.2f' % gbr.score(x_test, y_test))"
   ]
  },
  {
   "cell_type": "code",
   "execution_count": 34,
   "metadata": {
    "scrolled": false
   },
   "outputs": [
    {
     "data": {
      "text/plain": [
       "(array([ 0.,  3., 21., 10.,  6.,  1.,  4.,  1.,  0.,  1.,  0.,  1.,  0.,\n",
       "         1.,  0.]),\n",
       " array([     0.        ,  13333.33333333,  26666.66666667,  40000.        ,\n",
       "         53333.33333333,  66666.66666667,  80000.        ,  93333.33333333,\n",
       "        106666.66666667, 120000.        , 133333.33333333, 146666.66666667,\n",
       "        160000.        , 173333.33333333, 186666.66666667, 200000.        ]),\n",
       " <a list of 15 Patch objects>)"
      ]
     },
     "execution_count": 34,
     "metadata": {},
     "output_type": "execute_result"
    },
    {
     "data": {
      "image/png": "[encoded data removed]",
      "text/plain": [
       "<Figure size 432x288 with 1 Axes>"
      ]
     },
     "metadata": {
      "needs_background": "light"
     },
     "output_type": "display_data"
    }
   ],
   "source": [
    "m = pd.DataFrame({'y_hat':y_hat,'y_test':y_test})\n",
    "plt.hist(m.y_hat,15,[0,200000],alpha = 0.5)\n",
    "plt.hist(m.y_test,15,[0,200000],alpha = 0.5)"
   ]
  },
  {
   "cell_type": "code",
   "execution_count": 35,
   "metadata": {},
   "outputs": [
    {
     "data": {
      "text/plain": [
       "<matplotlib.axes._subplots.AxesSubplot at 0x7fa08083c280>"
      ]
     },
     "execution_count": 35,
     "metadata": {},
     "output_type": "execute_result"
    },
    {
     "data": {
      "image/png": "[encoded data removed]",
      "text/plain": [
       "<Figure size 432x288 with 1 Axes>"
      ]
     },
     "metadata": {
      "needs_background": "light"
     },
     "output_type": "display_data"
    }
   ],
   "source": [
    "m.plot(kind = 'scatter',x = 'y_test',y = 'y_hat')"
   ]
  },
  {
   "cell_type": "code",
   "execution_count": null,
   "metadata": {},
   "outputs": [],
   "source": []
  }
 ],
 "metadata": {
  "kernelspec": {
   "display_name": "Python 3",
   "language": "python",
   "name": "python3"
  },
  "toc": {
   "base_numbering": 1,
   "nav_menu": {},
   "number_sections": true,
   "sideBar": true,
   "skip_h1_title": false,
   "title_cell": "Table of Contents",
   "title_sidebar": "Contents",
   "toc_cell": false,
   "toc_position": {},
   "toc_section_display": true,
   "toc_window_display": false
  },
  "varInspector": {
   "cols": {
    "lenName": 16,
    "lenType": 16,
    "lenVar": 40
   },
   "kernels_config": {
    "python": {
     "delete_cmd_postfix": "",
     "delete_cmd_prefix": "del ",
     "library": "var_list.py",
     "varRefreshCmd": "print(var_dic_list())"
    },
    "r": {
     "delete_cmd_postfix": ") ",
     "delete_cmd_prefix": "rm(",
     "library": "var_list.r",
     "varRefreshCmd": "cat(var_dic_list()) "
    }
   },
   "types_to_exclude": [
    "module",
    "function",
    "builtin_function_or_method",
    "instance",
    "_Feature"
   ],
   "window_display": false
  }
 },
 "nbformat": 4,
 "nbformat_minor": 4
}
